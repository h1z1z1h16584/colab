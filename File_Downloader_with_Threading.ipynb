{
  "nbformat": 4,
  "nbformat_minor": 0,
  "metadata": {
    "colab": {
      "provenance": [],
      "toc_visible": true,
      "authorship_tag": "ABX9TyMhpnHugg4FfbnG1r/4fH8F",
      "include_colab_link": true
    },
    "kernelspec": {
      "name": "python3",
      "display_name": "Python 3"
    },
    "language_info": {
      "name": "python"
    },
    "widgets": {
      "application/vnd.jupyter.widget-state+json": {
        "a414c3bd87fd4ddeba27040328930dd0": {
          "model_module": "@jupyter-widgets/controls",
          "model_name": "CheckboxModel",
          "model_module_version": "1.5.0",
          "state": {
            "_dom_classes": [],
            "_model_module": "@jupyter-widgets/controls",
            "_model_module_version": "1.5.0",
            "_model_name": "CheckboxModel",
            "_view_count": null,
            "_view_module": "@jupyter-widgets/controls",
            "_view_module_version": "1.5.0",
            "_view_name": "CheckboxView",
            "description": "Simultaneous Download",
            "description_tooltip": null,
            "disabled": false,
            "indent": false,
            "layout": "IPY_MODEL_ad432c5227f64fe591a368d4be6863a7",
            "style": "IPY_MODEL_3d73437d12434e3ab49e4b83e3b800f6",
            "value": true
          }
        },
        "ad432c5227f64fe591a368d4be6863a7": {
          "model_module": "@jupyter-widgets/base",
          "model_name": "LayoutModel",
          "model_module_version": "1.2.0",
          "state": {
            "_model_module": "@jupyter-widgets/base",
            "_model_module_version": "1.2.0",
            "_model_name": "LayoutModel",
            "_view_count": null,
            "_view_module": "@jupyter-widgets/base",
            "_view_module_version": "1.2.0",
            "_view_name": "LayoutView",
            "align_content": null,
            "align_items": null,
            "align_self": null,
            "border": null,
            "bottom": null,
            "display": null,
            "flex": null,
            "flex_flow": null,
            "grid_area": null,
            "grid_auto_columns": null,
            "grid_auto_flow": null,
            "grid_auto_rows": null,
            "grid_column": null,
            "grid_gap": null,
            "grid_row": null,
            "grid_template_areas": null,
            "grid_template_columns": null,
            "grid_template_rows": null,
            "height": null,
            "justify_content": null,
            "justify_items": null,
            "left": null,
            "margin": null,
            "max_height": null,
            "max_width": null,
            "min_height": null,
            "min_width": null,
            "object_fit": null,
            "object_position": null,
            "order": null,
            "overflow": null,
            "overflow_x": null,
            "overflow_y": null,
            "padding": null,
            "right": null,
            "top": null,
            "visibility": null,
            "width": null
          }
        },
        "3d73437d12434e3ab49e4b83e3b800f6": {
          "model_module": "@jupyter-widgets/controls",
          "model_name": "DescriptionStyleModel",
          "model_module_version": "1.5.0",
          "state": {
            "_model_module": "@jupyter-widgets/controls",
            "_model_module_version": "1.5.0",
            "_model_name": "DescriptionStyleModel",
            "_view_count": null,
            "_view_module": "@jupyter-widgets/base",
            "_view_module_version": "1.2.0",
            "_view_name": "StyleView",
            "description_width": ""
          }
        },
        "3db2975bf69448ee83f150e8a1a8f768": {
          "model_module": "@jupyter-widgets/controls",
          "model_name": "TextModel",
          "model_module_version": "1.5.0",
          "state": {
            "_dom_classes": [],
            "_model_module": "@jupyter-widgets/controls",
            "_model_module_version": "1.5.0",
            "_model_name": "TextModel",
            "_view_count": null,
            "_view_module": "@jupyter-widgets/controls",
            "_view_module_version": "1.5.0",
            "_view_name": "TextView",
            "continuous_update": true,
            "description": "URL:",
            "description_tooltip": null,
            "disabled": false,
            "layout": "IPY_MODEL_5a9be3ca116b4c2792a65d0d4c1dc4d0",
            "placeholder": "​",
            "style": "IPY_MODEL_77002ad3dee544faa9a0380820893afd",
            "value": ""
          }
        },
        "5a9be3ca116b4c2792a65d0d4c1dc4d0": {
          "model_module": "@jupyter-widgets/base",
          "model_name": "LayoutModel",
          "model_module_version": "1.2.0",
          "state": {
            "_model_module": "@jupyter-widgets/base",
            "_model_module_version": "1.2.0",
            "_model_name": "LayoutModel",
            "_view_count": null,
            "_view_module": "@jupyter-widgets/base",
            "_view_module_version": "1.2.0",
            "_view_name": "LayoutView",
            "align_content": null,
            "align_items": null,
            "align_self": null,
            "border": null,
            "bottom": null,
            "display": null,
            "flex": null,
            "flex_flow": null,
            "grid_area": null,
            "grid_auto_columns": null,
            "grid_auto_flow": null,
            "grid_auto_rows": null,
            "grid_column": null,
            "grid_gap": null,
            "grid_row": null,
            "grid_template_areas": null,
            "grid_template_columns": null,
            "grid_template_rows": null,
            "height": null,
            "justify_content": null,
            "justify_items": null,
            "left": null,
            "margin": null,
            "max_height": null,
            "max_width": null,
            "min_height": null,
            "min_width": null,
            "object_fit": null,
            "object_position": null,
            "order": null,
            "overflow": null,
            "overflow_x": null,
            "overflow_y": null,
            "padding": null,
            "right": null,
            "top": null,
            "visibility": null,
            "width": null
          }
        },
        "77002ad3dee544faa9a0380820893afd": {
          "model_module": "@jupyter-widgets/controls",
          "model_name": "DescriptionStyleModel",
          "model_module_version": "1.5.0",
          "state": {
            "_model_module": "@jupyter-widgets/controls",
            "_model_module_version": "1.5.0",
            "_model_name": "DescriptionStyleModel",
            "_view_count": null,
            "_view_module": "@jupyter-widgets/base",
            "_view_module_version": "1.2.0",
            "_view_name": "StyleView",
            "description_width": ""
          }
        },
        "dbaa4728f98f445688d4aac120f6879d": {
          "model_module": "@jupyter-widgets/controls",
          "model_name": "TextModel",
          "model_module_version": "1.5.0",
          "state": {
            "_dom_classes": [],
            "_model_module": "@jupyter-widgets/controls",
            "_model_module_version": "1.5.0",
            "_model_name": "TextModel",
            "_view_count": null,
            "_view_module": "@jupyter-widgets/controls",
            "_view_module_version": "1.5.0",
            "_view_name": "TextView",
            "continuous_update": true,
            "description": "New Filename (optional):",
            "description_tooltip": null,
            "disabled": false,
            "layout": "IPY_MODEL_e876d99d02ba4f918b077e25e2e6ca0a",
            "placeholder": "​",
            "style": "IPY_MODEL_802d31027fa0493aa1d8394be0907b2d",
            "value": ""
          }
        },
        "e876d99d02ba4f918b077e25e2e6ca0a": {
          "model_module": "@jupyter-widgets/base",
          "model_name": "LayoutModel",
          "model_module_version": "1.2.0",
          "state": {
            "_model_module": "@jupyter-widgets/base",
            "_model_module_version": "1.2.0",
            "_model_name": "LayoutModel",
            "_view_count": null,
            "_view_module": "@jupyter-widgets/base",
            "_view_module_version": "1.2.0",
            "_view_name": "LayoutView",
            "align_content": null,
            "align_items": null,
            "align_self": null,
            "border": null,
            "bottom": null,
            "display": null,
            "flex": null,
            "flex_flow": null,
            "grid_area": null,
            "grid_auto_columns": null,
            "grid_auto_flow": null,
            "grid_auto_rows": null,
            "grid_column": null,
            "grid_gap": null,
            "grid_row": null,
            "grid_template_areas": null,
            "grid_template_columns": null,
            "grid_template_rows": null,
            "height": null,
            "justify_content": null,
            "justify_items": null,
            "left": null,
            "margin": null,
            "max_height": null,
            "max_width": null,
            "min_height": null,
            "min_width": null,
            "object_fit": null,
            "object_position": null,
            "order": null,
            "overflow": null,
            "overflow_x": null,
            "overflow_y": null,
            "padding": null,
            "right": null,
            "top": null,
            "visibility": null,
            "width": null
          }
        },
        "802d31027fa0493aa1d8394be0907b2d": {
          "model_module": "@jupyter-widgets/controls",
          "model_name": "DescriptionStyleModel",
          "model_module_version": "1.5.0",
          "state": {
            "_model_module": "@jupyter-widgets/controls",
            "_model_module_version": "1.5.0",
            "_model_name": "DescriptionStyleModel",
            "_view_count": null,
            "_view_module": "@jupyter-widgets/base",
            "_view_module_version": "1.2.0",
            "_view_name": "StyleView",
            "description_width": ""
          }
        },
        "df01e12bd40846f09afebec890c6674b": {
          "model_module": "@jupyter-widgets/controls",
          "model_name": "ButtonModel",
          "model_module_version": "1.5.0",
          "state": {
            "_dom_classes": [],
            "_model_module": "@jupyter-widgets/controls",
            "_model_module_version": "1.5.0",
            "_model_name": "ButtonModel",
            "_view_count": null,
            "_view_module": "@jupyter-widgets/controls",
            "_view_module_version": "1.5.0",
            "_view_name": "ButtonView",
            "button_style": "",
            "description": "Add URL",
            "disabled": false,
            "icon": "",
            "layout": "IPY_MODEL_41119bf2c8334c56b0d5965c3cfcf851",
            "style": "IPY_MODEL_db48b30ec1664bf0b4971cfe7dc87d49",
            "tooltip": ""
          }
        },
        "41119bf2c8334c56b0d5965c3cfcf851": {
          "model_module": "@jupyter-widgets/base",
          "model_name": "LayoutModel",
          "model_module_version": "1.2.0",
          "state": {
            "_model_module": "@jupyter-widgets/base",
            "_model_module_version": "1.2.0",
            "_model_name": "LayoutModel",
            "_view_count": null,
            "_view_module": "@jupyter-widgets/base",
            "_view_module_version": "1.2.0",
            "_view_name": "LayoutView",
            "align_content": null,
            "align_items": null,
            "align_self": null,
            "border": null,
            "bottom": null,
            "display": null,
            "flex": null,
            "flex_flow": null,
            "grid_area": null,
            "grid_auto_columns": null,
            "grid_auto_flow": null,
            "grid_auto_rows": null,
            "grid_column": null,
            "grid_gap": null,
            "grid_row": null,
            "grid_template_areas": null,
            "grid_template_columns": null,
            "grid_template_rows": null,
            "height": null,
            "justify_content": null,
            "justify_items": null,
            "left": null,
            "margin": null,
            "max_height": null,
            "max_width": null,
            "min_height": null,
            "min_width": null,
            "object_fit": null,
            "object_position": null,
            "order": null,
            "overflow": null,
            "overflow_x": null,
            "overflow_y": null,
            "padding": null,
            "right": null,
            "top": null,
            "visibility": null,
            "width": null
          }
        },
        "db48b30ec1664bf0b4971cfe7dc87d49": {
          "model_module": "@jupyter-widgets/controls",
          "model_name": "ButtonStyleModel",
          "model_module_version": "1.5.0",
          "state": {
            "_model_module": "@jupyter-widgets/controls",
            "_model_module_version": "1.5.0",
            "_model_name": "ButtonStyleModel",
            "_view_count": null,
            "_view_module": "@jupyter-widgets/base",
            "_view_module_version": "1.2.0",
            "_view_name": "StyleView",
            "button_color": null,
            "font_weight": ""
          }
        },
        "f4c590922af942dcbc550e8cbc2420f2": {
          "model_module": "@jupyter-widgets/output",
          "model_name": "OutputModel",
          "model_module_version": "1.0.0",
          "state": {
            "_dom_classes": [],
            "_model_module": "@jupyter-widgets/output",
            "_model_module_version": "1.0.0",
            "_model_name": "OutputModel",
            "_view_count": null,
            "_view_module": "@jupyter-widgets/output",
            "_view_module_version": "1.0.0",
            "_view_name": "OutputView",
            "layout": "IPY_MODEL_80b4f92b7a124fd386bca40be1be89a2",
            "msg_id": "",
            "outputs": []
          }
        },
        "80b4f92b7a124fd386bca40be1be89a2": {
          "model_module": "@jupyter-widgets/base",
          "model_name": "LayoutModel",
          "model_module_version": "1.2.0",
          "state": {
            "_model_module": "@jupyter-widgets/base",
            "_model_module_version": "1.2.0",
            "_model_name": "LayoutModel",
            "_view_count": null,
            "_view_module": "@jupyter-widgets/base",
            "_view_module_version": "1.2.0",
            "_view_name": "LayoutView",
            "align_content": null,
            "align_items": null,
            "align_self": null,
            "border": null,
            "bottom": null,
            "display": null,
            "flex": null,
            "flex_flow": null,
            "grid_area": null,
            "grid_auto_columns": null,
            "grid_auto_flow": null,
            "grid_auto_rows": null,
            "grid_column": null,
            "grid_gap": null,
            "grid_row": null,
            "grid_template_areas": null,
            "grid_template_columns": null,
            "grid_template_rows": null,
            "height": null,
            "justify_content": null,
            "justify_items": null,
            "left": null,
            "margin": null,
            "max_height": null,
            "max_width": null,
            "min_height": null,
            "min_width": null,
            "object_fit": null,
            "object_position": null,
            "order": null,
            "overflow": null,
            "overflow_x": null,
            "overflow_y": null,
            "padding": null,
            "right": null,
            "top": null,
            "visibility": null,
            "width": null
          }
        }
      }
    }
  },
  "cells": [
    {
      "cell_type": "markdown",
      "metadata": {
        "id": "view-in-github",
        "colab_type": "text"
      },
      "source": [
        "<a href=\"https://colab.research.google.com/github/h1z1z1h16584/colab/blob/main/File_Downloader_with_Threading.ipynb\" target=\"_parent\"><img src=\"https://colab.research.google.com/assets/colab-badge.svg\" alt=\"Open In Colab\"/></a>"
      ]
    },
    {
      "cell_type": "code",
      "execution_count": 5,
      "metadata": {
        "colab": {
          "base_uri": "https://localhost:8080/",
          "height": 34
        },
        "id": "joqq7yrz1_XK",
        "outputId": "75c6b9a9-a376-4b3b-d9ba-cf65aa8113d8",
        "cellView": "form"
      },
      "outputs": [
        {
          "output_type": "stream",
          "name": "stdout",
          "text": [
            "Drive already mounted at /content/drive; to attempt to forcibly remount, call drive.mount(\"/content/drive\", force_remount=True).\n"
          ]
        },
        {
          "output_type": "display_data",
          "data": {
            "text/plain": [
              "<IPython.core.display.Javascript object>"
            ],
            "application/javascript": [
              "\n",
              "function ClickConnect(){\n",
              "  btn = document.querySelector(\"colab-connect-button\")\n",
              "  if (btn != null){\n",
              "    console.log(\"Colab connect button found. Clicking...\"); \n",
              "    btn.click() \n",
              "  }\n",
              "\n",
              "  btn = document.getElementById('ok')\n",
              "  if (btn != null){\n",
              "    console.log(\"Reconnect button found. Clicking...\"); \n",
              "    btn.click() \n",
              "  }\n",
              "}\n",
              "\n",
              "// Check every minute (60000 milliseconds)\n",
              "setInterval(ClickConnect, 60000)\n"
            ]
          },
          "metadata": {}
        }
      ],
      "source": [
        "#@title <strong><-----Auto-Reconnect for Google Drive and Colab Sessions</strong></font>\n",
        "from google.colab import drive\n",
        "from IPython.display import display, Javascript\n",
        "\n",
        "drive.mount(\"/content/drive\")\n",
        "\n",
        "# This JavaScript will automatically click the \"CONNECT\" and \"RECONNECT\" buttons\n",
        "js_code = \"\"\"\n",
        "function ClickConnect(){\n",
        "  btn = document.querySelector(\"colab-connect-button\")\n",
        "  if (btn != null){\n",
        "    console.log(\"Colab connect button found. Clicking...\");\n",
        "    btn.click()\n",
        "  }\n",
        "\n",
        "  btn = document.getElementById('ok')\n",
        "  if (btn != null){\n",
        "    console.log(\"Reconnect button found. Clicking...\");\n",
        "    btn.click()\n",
        "  }\n",
        "}\n",
        "\n",
        "// Check every minute (60000 milliseconds)\n",
        "setInterval(ClickConnect, 60000)\n",
        "\"\"\"\n",
        "display(Javascript(js_code))"
      ]
    },
    {
      "cell_type": "code",
      "source": [
        "#@title <-----<strong> Download and Install Libraries</strong>\n",
        "from google.colab import output\n",
        "from IPython.display import clear_output, display\n",
        "output.enable_custom_widget_manager()\n",
        "\n",
        "!pip install requests -qq\n",
        "!pip install tqdm -qq\n",
        "!pip install ipywidgets -qq\n",
        "\n",
        "clear_output(wait=True)\n",
        "\n",
        "print(\"Installation Finished Successfully\")\n",
        "\n",
        "from tqdm import tqdm\n",
        "import os\n",
        "import sys\n",
        "from pathlib import Path\n",
        "import requests\n",
        "import threading\n",
        "import ipywidgets as widgets\n",
        "\n",
        "\n",
        "# Define the download function\n",
        "def download(url, filename=None):\n",
        "    \"\"\"\n",
        "    Downloads a file from a given URL with a progress bar.\n",
        "    \"\"\"\n",
        "    try:\n",
        "        response = requests.head(url, allow_redirects=True)\n",
        "        filesize = int(response.headers[\"Content-Length\"])\n",
        "\n",
        "        if filename is None:\n",
        "            filename = os.path.basename(response.url)\n",
        "\n",
        "        print(f\"Downloading {filename} ({filesize} bytes)...\")\n",
        "\n",
        "        home_path = \"/content/drive/MyDrive\"\n",
        "        sub_path = \"downloads\"\n",
        "        os.makedirs(os.path.join(home_path, sub_path), exist_ok=True)\n",
        "        dl_path = os.path.join(home_path, sub_path, filename)\n",
        "\n",
        "        chunk_size = 1024\n",
        "        with requests.get(url, stream=True, allow_redirects=True) as r, open(dl_path, \"wb\") as f, tqdm(\n",
        "            unit=\"B\",\n",
        "            unit_scale=True,\n",
        "            unit_divisor=1024,\n",
        "            total=filesize,\n",
        "            file=sys.stdout,\n",
        "            desc=filename\n",
        "        ) as progress:\n",
        "            for chunk in r.iter_content(chunk_size=chunk_size):\n",
        "                if chunk:\n",
        "                    datasize = f.write(chunk)\n",
        "                    progress.update(datasize)\n",
        "    except requests.exceptions.RequestException as e:\n",
        "        print(f\"\\nError downloading {url}: {e}\")\n",
        "    except KeyError:\n",
        "        print(f\"\\nError: Could not determine file size for {url}. The 'Content-Length' header was not found.\")\n",
        "    except Exception as e:\n",
        "        print(f\"\\nAn unexpected error occurred: {e}\")"
      ],
      "metadata": {
        "id": "KSNINzrq5p6A",
        "cellView": "form",
        "colab": {
          "base_uri": "https://localhost:8080/"
        },
        "outputId": "7dd16521-ad8e-4519-aafe-783cdf9fa787"
      },
      "execution_count": 10,
      "outputs": [
        {
          "output_type": "stream",
          "name": "stdout",
          "text": [
            "Installation Finshed Successfuly\n"
          ]
        }
      ]
    },
    {
      "cell_type": "code",
      "source": [
        "#@title <-----<strong> Adding URLs and File names</strong>\n",
        "urls_and_filenames = []\n",
        "\n",
        "# Create the UI widgets\n",
        "url_input = widgets.Text(description=\"URL:\")\n",
        "filename_input = widgets.Text(description=\"New Filename (optional):\")\n",
        "add_button = widgets.Button(description=\"Add URL\")\n",
        "output_area = widgets.Output()\n",
        "\n",
        "simultaneous_download_checkbox = widgets.Checkbox(\n",
        "    value=True,\n",
        "    description=\"Simultaneous Download\",\n",
        "    disabled=False,\n",
        "    indent=False\n",
        ")\n",
        "display(simultaneous_download_checkbox)\n",
        "\n",
        "def on_add_button_clicked(b):\n",
        "    with output_area:\n",
        "        url = url_input.value\n",
        "        filename = filename_input.value if filename_input.value else None\n",
        "\n",
        "        if url:\n",
        "            urls_and_filenames.append((url, filename))\n",
        "            print(f\"Added: {url} -> {filename}\")\n",
        "            url_input.value = \"\"\n",
        "            filename_input.value = \"\"\n",
        "        else:\n",
        "            print(\"Please enter a valid URL.\")\n",
        "\n",
        "add_button.on_click(on_add_button_clicked)\n",
        "\n",
        "display(url_input, filename_input, add_button, output_area)\n",
        "\n",
        "# Now, you need to manually run the next cell when you are done adding URLs.\n",
        "print(\"When you are done adding URLs, run the next cell to start the downloads.\")"
      ],
      "metadata": {
        "colab": {
          "base_uri": "https://localhost:8080/",
          "height": 160,
          "referenced_widgets": [
            "a414c3bd87fd4ddeba27040328930dd0",
            "ad432c5227f64fe591a368d4be6863a7",
            "3d73437d12434e3ab49e4b83e3b800f6",
            "3db2975bf69448ee83f150e8a1a8f768",
            "5a9be3ca116b4c2792a65d0d4c1dc4d0",
            "77002ad3dee544faa9a0380820893afd",
            "dbaa4728f98f445688d4aac120f6879d",
            "e876d99d02ba4f918b077e25e2e6ca0a",
            "802d31027fa0493aa1d8394be0907b2d",
            "df01e12bd40846f09afebec890c6674b",
            "41119bf2c8334c56b0d5965c3cfcf851",
            "db48b30ec1664bf0b4971cfe7dc87d49",
            "f4c590922af942dcbc550e8cbc2420f2",
            "80b4f92b7a124fd386bca40be1be89a2"
          ]
        },
        "id": "dCs4l9z16CgH",
        "outputId": "f625c2e1-4b96-41a2-c408-63a91296ca2e",
        "cellView": "form"
      },
      "execution_count": 11,
      "outputs": [
        {
          "output_type": "display_data",
          "data": {
            "text/plain": [
              "Checkbox(value=True, description='Simultaneous Download', indent=False)"
            ],
            "application/vnd.jupyter.widget-view+json": {
              "version_major": 2,
              "version_minor": 0,
              "model_id": "a414c3bd87fd4ddeba27040328930dd0"
            }
          },
          "metadata": {
            "application/vnd.jupyter.widget-view+json": {
              "colab": {
                "custom_widget_manager": {
                  "url": "https://ssl.gstatic.com/colaboratory-static/widgets/colab-cdn-widget-manager/2b70e893a8ba7c0f/manager.min.js"
                }
              }
            }
          }
        },
        {
          "output_type": "display_data",
          "data": {
            "text/plain": [
              "Text(value='', description='URL:')"
            ],
            "application/vnd.jupyter.widget-view+json": {
              "version_major": 2,
              "version_minor": 0,
              "model_id": "3db2975bf69448ee83f150e8a1a8f768"
            }
          },
          "metadata": {
            "application/vnd.jupyter.widget-view+json": {
              "colab": {
                "custom_widget_manager": {
                  "url": "https://ssl.gstatic.com/colaboratory-static/widgets/colab-cdn-widget-manager/2b70e893a8ba7c0f/manager.min.js"
                }
              }
            }
          }
        },
        {
          "output_type": "display_data",
          "data": {
            "text/plain": [
              "Text(value='', description='New Filename (optional):')"
            ],
            "application/vnd.jupyter.widget-view+json": {
              "version_major": 2,
              "version_minor": 0,
              "model_id": "dbaa4728f98f445688d4aac120f6879d"
            }
          },
          "metadata": {
            "application/vnd.jupyter.widget-view+json": {
              "colab": {
                "custom_widget_manager": {
                  "url": "https://ssl.gstatic.com/colaboratory-static/widgets/colab-cdn-widget-manager/2b70e893a8ba7c0f/manager.min.js"
                }
              }
            }
          }
        },
        {
          "output_type": "display_data",
          "data": {
            "text/plain": [
              "Button(description='Add URL', style=ButtonStyle())"
            ],
            "application/vnd.jupyter.widget-view+json": {
              "version_major": 2,
              "version_minor": 0,
              "model_id": "df01e12bd40846f09afebec890c6674b"
            }
          },
          "metadata": {
            "application/vnd.jupyter.widget-view+json": {
              "colab": {
                "custom_widget_manager": {
                  "url": "https://ssl.gstatic.com/colaboratory-static/widgets/colab-cdn-widget-manager/2b70e893a8ba7c0f/manager.min.js"
                }
              }
            }
          }
        },
        {
          "output_type": "display_data",
          "data": {
            "text/plain": [
              "Output()"
            ],
            "application/vnd.jupyter.widget-view+json": {
              "version_major": 2,
              "version_minor": 0,
              "model_id": "f4c590922af942dcbc550e8cbc2420f2"
            }
          },
          "metadata": {
            "application/vnd.jupyter.widget-view+json": {
              "colab": {
                "custom_widget_manager": {
                  "url": "https://ssl.gstatic.com/colaboratory-static/widgets/colab-cdn-widget-manager/2b70e893a8ba7c0f/manager.min.js"
                }
              }
            }
          }
        },
        {
          "output_type": "stream",
          "name": "stdout",
          "text": [
            "When you are done adding URLs, run the next cell to start the downloads.\n"
          ]
        }
      ]
    },
    {
      "cell_type": "code",
      "source": [
        "#@title <-----<strong> Start Downloading</strong>\n",
        "print(\"\\nStarting downloads...\")\n",
        "if simultaneous_download_checkbox.value:\n",
        "    print(\"Mode: Simultaneous\")\n",
        "    threads = []\n",
        "    for url, new_filename in urls_and_filenames:\n",
        "        t = threading.Thread(target=download, args=(url, new_filename))\n",
        "        threads.append(t)\n",
        "        t.start()\n",
        "\n",
        "    for t in threads:\n",
        "        t.join()\n",
        "    print(\"\\nAll simultaneous downloads finished.\")\n",
        "else:\n",
        "    print(\"Mode: Sequential\")\n",
        "    for url, new_filename in urls_and_filenames:\n",
        "        download(url, new_filename)\n",
        "\n",
        "    print(\"\\nAll sequential downloads finished.\")"
      ],
      "metadata": {
        "colab": {
          "base_uri": "https://localhost:8080/"
        },
        "id": "u3-9FKqK6E9O",
        "outputId": "8afb1d20-e802-41a2-f3ec-cbb715834587",
        "cellView": "form"
      },
      "execution_count": 12,
      "outputs": [
        {
          "output_type": "stream",
          "name": "stdout",
          "text": [
            "\n",
            "Starting downloads...\n",
            "Mode: Simultaneous\n",
            "\n",
            "All simultaneous downloads finished.\n"
          ]
        }
      ]
    }
  ]
}