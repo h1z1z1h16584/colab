{
  "nbformat": 4,
  "nbformat_minor": 0,
  "metadata": {
    "colab": {
      "provenance": [],
      "authorship_tag": "ABX9TyMg7cdxZpE4GoVI1+UQPgBD",
      "include_colab_link": true
    },
    "kernelspec": {
      "name": "python3",
      "display_name": "Python 3"
    },
    "language_info": {
      "name": "python"
    },
    "widgets": {
      "application/vnd.jupyter.widget-state+json": {
        "f14a32e3616f476981e2d737d0558f65": {
          "model_module": "@jupyter-widgets/controls",
          "model_name": "CheckboxModel",
          "model_module_version": "1.5.0",
          "state": {
            "_dom_classes": [],
            "_model_module": "@jupyter-widgets/controls",
            "_model_module_version": "1.5.0",
            "_model_name": "CheckboxModel",
            "_view_count": null,
            "_view_module": "@jupyter-widgets/controls",
            "_view_module_version": "1.5.0",
            "_view_name": "CheckboxView",
            "description": "Simultaneous Download",
            "description_tooltip": null,
            "disabled": false,
            "indent": false,
            "layout": "IPY_MODEL_9b56c8acc81b462292809096b1fbe811",
            "style": "IPY_MODEL_f337b0642f20479eaf0984475aa4ec62",
            "value": true
          }
        },
        "9b56c8acc81b462292809096b1fbe811": {
          "model_module": "@jupyter-widgets/base",
          "model_name": "LayoutModel",
          "model_module_version": "1.2.0",
          "state": {
            "_model_module": "@jupyter-widgets/base",
            "_model_module_version": "1.2.0",
            "_model_name": "LayoutModel",
            "_view_count": null,
            "_view_module": "@jupyter-widgets/base",
            "_view_module_version": "1.2.0",
            "_view_name": "LayoutView",
            "align_content": null,
            "align_items": null,
            "align_self": null,
            "border": null,
            "bottom": null,
            "display": null,
            "flex": null,
            "flex_flow": null,
            "grid_area": null,
            "grid_auto_columns": null,
            "grid_auto_flow": null,
            "grid_auto_rows": null,
            "grid_column": null,
            "grid_gap": null,
            "grid_row": null,
            "grid_template_areas": null,
            "grid_template_columns": null,
            "grid_template_rows": null,
            "height": null,
            "justify_content": null,
            "justify_items": null,
            "left": null,
            "margin": null,
            "max_height": null,
            "max_width": null,
            "min_height": null,
            "min_width": null,
            "object_fit": null,
            "object_position": null,
            "order": null,
            "overflow": null,
            "overflow_x": null,
            "overflow_y": null,
            "padding": null,
            "right": null,
            "top": null,
            "visibility": null,
            "width": null
          }
        },
        "f337b0642f20479eaf0984475aa4ec62": {
          "model_module": "@jupyter-widgets/controls",
          "model_name": "DescriptionStyleModel",
          "model_module_version": "1.5.0",
          "state": {
            "_model_module": "@jupyter-widgets/controls",
            "_model_module_version": "1.5.0",
            "_model_name": "DescriptionStyleModel",
            "_view_count": null,
            "_view_module": "@jupyter-widgets/base",
            "_view_module_version": "1.2.0",
            "_view_name": "StyleView",
            "description_width": ""
          }
        },
        "f2207899003f4dd5a53f9d3bf945f513": {
          "model_module": "@jupyter-widgets/controls",
          "model_name": "TextModel",
          "model_module_version": "1.5.0",
          "state": {
            "_dom_classes": [],
            "_model_module": "@jupyter-widgets/controls",
            "_model_module_version": "1.5.0",
            "_model_name": "TextModel",
            "_view_count": null,
            "_view_module": "@jupyter-widgets/controls",
            "_view_module_version": "1.5.0",
            "_view_name": "TextView",
            "continuous_update": true,
            "description": "URL:",
            "description_tooltip": null,
            "disabled": false,
            "layout": "IPY_MODEL_e5e7b1148d41456fbe24c746c9f2fa7c",
            "placeholder": "​",
            "style": "IPY_MODEL_477015198eae43a49c187487823a5211",
            "value": ""
          }
        },
        "e5e7b1148d41456fbe24c746c9f2fa7c": {
          "model_module": "@jupyter-widgets/base",
          "model_name": "LayoutModel",
          "model_module_version": "1.2.0",
          "state": {
            "_model_module": "@jupyter-widgets/base",
            "_model_module_version": "1.2.0",
            "_model_name": "LayoutModel",
            "_view_count": null,
            "_view_module": "@jupyter-widgets/base",
            "_view_module_version": "1.2.0",
            "_view_name": "LayoutView",
            "align_content": null,
            "align_items": null,
            "align_self": null,
            "border": null,
            "bottom": null,
            "display": null,
            "flex": null,
            "flex_flow": null,
            "grid_area": null,
            "grid_auto_columns": null,
            "grid_auto_flow": null,
            "grid_auto_rows": null,
            "grid_column": null,
            "grid_gap": null,
            "grid_row": null,
            "grid_template_areas": null,
            "grid_template_columns": null,
            "grid_template_rows": null,
            "height": null,
            "justify_content": null,
            "justify_items": null,
            "left": null,
            "margin": null,
            "max_height": null,
            "max_width": null,
            "min_height": null,
            "min_width": null,
            "object_fit": null,
            "object_position": null,
            "order": null,
            "overflow": null,
            "overflow_x": null,
            "overflow_y": null,
            "padding": null,
            "right": null,
            "top": null,
            "visibility": null,
            "width": null
          }
        },
        "477015198eae43a49c187487823a5211": {
          "model_module": "@jupyter-widgets/controls",
          "model_name": "DescriptionStyleModel",
          "model_module_version": "1.5.0",
          "state": {
            "_model_module": "@jupyter-widgets/controls",
            "_model_module_version": "1.5.0",
            "_model_name": "DescriptionStyleModel",
            "_view_count": null,
            "_view_module": "@jupyter-widgets/base",
            "_view_module_version": "1.2.0",
            "_view_name": "StyleView",
            "description_width": ""
          }
        },
        "34f43e9515214b21a662c58e94aa5af1": {
          "model_module": "@jupyter-widgets/controls",
          "model_name": "TextModel",
          "model_module_version": "1.5.0",
          "state": {
            "_dom_classes": [],
            "_model_module": "@jupyter-widgets/controls",
            "_model_module_version": "1.5.0",
            "_model_name": "TextModel",
            "_view_count": null,
            "_view_module": "@jupyter-widgets/controls",
            "_view_module_version": "1.5.0",
            "_view_name": "TextView",
            "continuous_update": true,
            "description": "New Filename (optional):",
            "description_tooltip": null,
            "disabled": false,
            "layout": "IPY_MODEL_b5146e74079146cc8f2963428e1d14b7",
            "placeholder": "​",
            "style": "IPY_MODEL_bf224afeb34e4b3aa20f39b409c614e5",
            "value": ""
          }
        },
        "b5146e74079146cc8f2963428e1d14b7": {
          "model_module": "@jupyter-widgets/base",
          "model_name": "LayoutModel",
          "model_module_version": "1.2.0",
          "state": {
            "_model_module": "@jupyter-widgets/base",
            "_model_module_version": "1.2.0",
            "_model_name": "LayoutModel",
            "_view_count": null,
            "_view_module": "@jupyter-widgets/base",
            "_view_module_version": "1.2.0",
            "_view_name": "LayoutView",
            "align_content": null,
            "align_items": null,
            "align_self": null,
            "border": null,
            "bottom": null,
            "display": null,
            "flex": null,
            "flex_flow": null,
            "grid_area": null,
            "grid_auto_columns": null,
            "grid_auto_flow": null,
            "grid_auto_rows": null,
            "grid_column": null,
            "grid_gap": null,
            "grid_row": null,
            "grid_template_areas": null,
            "grid_template_columns": null,
            "grid_template_rows": null,
            "height": null,
            "justify_content": null,
            "justify_items": null,
            "left": null,
            "margin": null,
            "max_height": null,
            "max_width": null,
            "min_height": null,
            "min_width": null,
            "object_fit": null,
            "object_position": null,
            "order": null,
            "overflow": null,
            "overflow_x": null,
            "overflow_y": null,
            "padding": null,
            "right": null,
            "top": null,
            "visibility": null,
            "width": null
          }
        },
        "bf224afeb34e4b3aa20f39b409c614e5": {
          "model_module": "@jupyter-widgets/controls",
          "model_name": "DescriptionStyleModel",
          "model_module_version": "1.5.0",
          "state": {
            "_model_module": "@jupyter-widgets/controls",
            "_model_module_version": "1.5.0",
            "_model_name": "DescriptionStyleModel",
            "_view_count": null,
            "_view_module": "@jupyter-widgets/base",
            "_view_module_version": "1.2.0",
            "_view_name": "StyleView",
            "description_width": ""
          }
        },
        "53a977931a5a4879973378b9fca2fbc3": {
          "model_module": "@jupyter-widgets/controls",
          "model_name": "ButtonModel",
          "model_module_version": "1.5.0",
          "state": {
            "_dom_classes": [],
            "_model_module": "@jupyter-widgets/controls",
            "_model_module_version": "1.5.0",
            "_model_name": "ButtonModel",
            "_view_count": null,
            "_view_module": "@jupyter-widgets/controls",
            "_view_module_version": "1.5.0",
            "_view_name": "ButtonView",
            "button_style": "",
            "description": "Add URL",
            "disabled": false,
            "icon": "",
            "layout": "IPY_MODEL_1633852e8401458fa74a8527bbee537b",
            "style": "IPY_MODEL_0f01f01d7f784b3ba9c4769033ba3aac",
            "tooltip": ""
          }
        },
        "1633852e8401458fa74a8527bbee537b": {
          "model_module": "@jupyter-widgets/base",
          "model_name": "LayoutModel",
          "model_module_version": "1.2.0",
          "state": {
            "_model_module": "@jupyter-widgets/base",
            "_model_module_version": "1.2.0",
            "_model_name": "LayoutModel",
            "_view_count": null,
            "_view_module": "@jupyter-widgets/base",
            "_view_module_version": "1.2.0",
            "_view_name": "LayoutView",
            "align_content": null,
            "align_items": null,
            "align_self": null,
            "border": null,
            "bottom": null,
            "display": null,
            "flex": null,
            "flex_flow": null,
            "grid_area": null,
            "grid_auto_columns": null,
            "grid_auto_flow": null,
            "grid_auto_rows": null,
            "grid_column": null,
            "grid_gap": null,
            "grid_row": null,
            "grid_template_areas": null,
            "grid_template_columns": null,
            "grid_template_rows": null,
            "height": null,
            "justify_content": null,
            "justify_items": null,
            "left": null,
            "margin": null,
            "max_height": null,
            "max_width": null,
            "min_height": null,
            "min_width": null,
            "object_fit": null,
            "object_position": null,
            "order": null,
            "overflow": null,
            "overflow_x": null,
            "overflow_y": null,
            "padding": null,
            "right": null,
            "top": null,
            "visibility": null,
            "width": null
          }
        },
        "0f01f01d7f784b3ba9c4769033ba3aac": {
          "model_module": "@jupyter-widgets/controls",
          "model_name": "ButtonStyleModel",
          "model_module_version": "1.5.0",
          "state": {
            "_model_module": "@jupyter-widgets/controls",
            "_model_module_version": "1.5.0",
            "_model_name": "ButtonStyleModel",
            "_view_count": null,
            "_view_module": "@jupyter-widgets/base",
            "_view_module_version": "1.2.0",
            "_view_name": "StyleView",
            "button_color": null,
            "font_weight": ""
          }
        },
        "a922f627cfa647ea8ec3633859aa5ca3": {
          "model_module": "@jupyter-widgets/output",
          "model_name": "OutputModel",
          "model_module_version": "1.0.0",
          "state": {
            "_dom_classes": [],
            "_model_module": "@jupyter-widgets/output",
            "_model_module_version": "1.0.0",
            "_model_name": "OutputModel",
            "_view_count": null,
            "_view_module": "@jupyter-widgets/output",
            "_view_module_version": "1.0.0",
            "_view_name": "OutputView",
            "layout": "IPY_MODEL_2ddf89b6e35c4bca9f6716f9f3834226",
            "msg_id": "",
            "outputs": [
              {
                "output_type": "stream",
                "name": "stdout",
                "text": [
                  "Added: https://f2l-bot828-40f1f76157f8.herokuapp.com/dl/68aba478f75526a5526e9e8a -> None\n"
                ]
              },
              {
                "output_type": "stream",
                "name": "stdout",
                "text": [
                  "Added: https://f2l-bot828-40f1f76157f8.herokuapp.com/dl/68aba474f75526a5526e9e89 -> None\n"
                ]
              }
            ]
          }
        },
        "2ddf89b6e35c4bca9f6716f9f3834226": {
          "model_module": "@jupyter-widgets/base",
          "model_name": "LayoutModel",
          "model_module_version": "1.2.0",
          "state": {
            "_model_module": "@jupyter-widgets/base",
            "_model_module_version": "1.2.0",
            "_model_name": "LayoutModel",
            "_view_count": null,
            "_view_module": "@jupyter-widgets/base",
            "_view_module_version": "1.2.0",
            "_view_name": "LayoutView",
            "align_content": null,
            "align_items": null,
            "align_self": null,
            "border": null,
            "bottom": null,
            "display": null,
            "flex": null,
            "flex_flow": null,
            "grid_area": null,
            "grid_auto_columns": null,
            "grid_auto_flow": null,
            "grid_auto_rows": null,
            "grid_column": null,
            "grid_gap": null,
            "grid_row": null,
            "grid_template_areas": null,
            "grid_template_columns": null,
            "grid_template_rows": null,
            "height": null,
            "justify_content": null,
            "justify_items": null,
            "left": null,
            "margin": null,
            "max_height": null,
            "max_width": null,
            "min_height": null,
            "min_width": null,
            "object_fit": null,
            "object_position": null,
            "order": null,
            "overflow": null,
            "overflow_x": null,
            "overflow_y": null,
            "padding": null,
            "right": null,
            "top": null,
            "visibility": null,
            "width": null
          }
        }
      }
    }
  },
  "cells": [
    {
      "cell_type": "markdown",
      "metadata": {
        "id": "view-in-github",
        "colab_type": "text"
      },
      "source": [
        "<a href=\"https://colab.research.google.com/github/h1z1z1h16584/colab/blob/main/File_Downloader_with_Threading.ipynb\" target=\"_parent\"><img src=\"https://colab.research.google.com/assets/colab-badge.svg\" alt=\"Open In Colab\"/></a>"
      ]
    },
    {
      "cell_type": "code",
      "execution_count": 30,
      "metadata": {
        "colab": {
          "base_uri": "https://localhost:8080/"
        },
        "id": "joqq7yrz1_XK",
        "outputId": "f7aa299e-6035-46c7-b0bc-5a3d93e0725e"
      },
      "outputs": [
        {
          "output_type": "stream",
          "name": "stdout",
          "text": [
            "Drive already mounted at /content/drive; to attempt to forcibly remount, call drive.mount(\"/content/drive\", force_remount=True).\n"
          ]
        }
      ],
      "source": [
        "#@title <-----<strong> Mounting Google Drive</strong>\n",
        "from google.colab import drive\n",
        "drive.mount(\"/content/drive\")"
      ]
    },
    {
      "cell_type": "code",
      "source": [
        "#@title <-----<strong> Download and Install Libraries</strong>\n",
        "!pip install requests\n",
        "!pip install tqdm\n",
        "!pip install ipywidgets\n",
        "from google.colab import output\n",
        "from IPython.display import clear_output\n",
        "output.enable_custom_widget_manager()\n",
        "clear_output(wait=True)\n",
        "\n",
        "from tqdm import tqdm\n",
        "import os\n",
        "import sys\n",
        "from pathlib import Path\n",
        "import requests\n",
        "import threading\n",
        "import ipywidgets as widgets\n",
        "from IPython.display import display\n",
        "\n",
        "# Define the download function\n",
        "def download(url, filename=None):\n",
        "    \"\"\"\n",
        "    Downloads a file from a given URL with a progress bar.\n",
        "    \"\"\"\n",
        "    try:\n",
        "        response = requests.head(url, allow_redirects=True)\n",
        "        filesize = int(response.headers[\"Content-Length\"])\n",
        "\n",
        "        if filename is None:\n",
        "            filename = os.path.basename(response.url)\n",
        "\n",
        "        print(f\"Downloading {filename} ({filesize} bytes)...\")\n",
        "\n",
        "        home_path = \"/content/drive/MyDrive\"\n",
        "        sub_path = \"downloads\"\n",
        "        os.makedirs(os.path.join(home_path, sub_path), exist_ok=True)\n",
        "        dl_path = os.path.join(home_path, sub_path, filename)\n",
        "\n",
        "        chunk_size = 1024\n",
        "        with requests.get(url, stream=True, allow_redirects=True) as r, open(dl_path, \"wb\") as f, tqdm(\n",
        "            unit=\"B\",\n",
        "            unit_scale=True,\n",
        "            unit_divisor=1024,\n",
        "            total=filesize,\n",
        "            file=sys.stdout,\n",
        "            desc=filename\n",
        "        ) as progress:\n",
        "            for chunk in r.iter_content(chunk_size=chunk_size):\n",
        "                if chunk:\n",
        "                    datasize = f.write(chunk)\n",
        "                    progress.update(datasize)\n",
        "    except requests.exceptions.RequestException as e:\n",
        "        print(f\"\\nError downloading {url}: {e}\")\n",
        "    except KeyError:\n",
        "        print(f\"\\nError: Could not determine file size for {url}. The 'Content-Length' header was not found.\")\n",
        "    except Exception as e:\n",
        "        print(f\"\\nAn unexpected error occurred: {e}\")\n"
      ],
      "metadata": {
        "id": "KSNINzrq5p6A",
        "cellView": "form"
      },
      "execution_count": null,
      "outputs": []
    },
    {
      "cell_type": "code",
      "source": [
        "#@title <-----<strong> Adding URLs and File names</strong>\n",
        "urls_and_filenames = []\n",
        "\n",
        "# Create the UI widgets\n",
        "url_input = widgets.Text(description=\"URL:\")\n",
        "filename_input = widgets.Text(description=\"New Filename (optional):\")\n",
        "add_button = widgets.Button(description=\"Add URL\")\n",
        "output_area = widgets.Output()\n",
        "\n",
        "simultaneous_download_checkbox = widgets.Checkbox(\n",
        "    value=True,\n",
        "    description=\"Simultaneous Download\",\n",
        "    disabled=False,\n",
        "    indent=False\n",
        ")\n",
        "display(simultaneous_download_checkbox)\n",
        "\n",
        "def on_add_button_clicked(b):\n",
        "    with output_area:\n",
        "        url = url_input.value\n",
        "        filename = filename_input.value if filename_input.value else None\n",
        "\n",
        "        if url:\n",
        "            urls_and_filenames.append((url, filename))\n",
        "            print(f\"Added: {url} -> {filename}\")\n",
        "            url_input.value = \"\"\n",
        "            filename_input.value = \"\"\n",
        "        else:\n",
        "            print(\"Please enter a valid URL.\")\n",
        "\n",
        "add_button.on_click(on_add_button_clicked)\n",
        "\n",
        "display(url_input, filename_input, add_button, output_area)\n",
        "\n",
        "# Now, you need to manually run the next cell when you are done adding URLs.\n",
        "print(\"When you are done adding URLs, run the next cell to start the downloads.\")"
      ],
      "metadata": {
        "colab": {
          "base_uri": "https://localhost:8080/",
          "height": 195,
          "referenced_widgets": [
            "f14a32e3616f476981e2d737d0558f65",
            "9b56c8acc81b462292809096b1fbe811",
            "f337b0642f20479eaf0984475aa4ec62",
            "f2207899003f4dd5a53f9d3bf945f513",
            "e5e7b1148d41456fbe24c746c9f2fa7c",
            "477015198eae43a49c187487823a5211",
            "34f43e9515214b21a662c58e94aa5af1",
            "b5146e74079146cc8f2963428e1d14b7",
            "bf224afeb34e4b3aa20f39b409c614e5",
            "53a977931a5a4879973378b9fca2fbc3",
            "1633852e8401458fa74a8527bbee537b",
            "0f01f01d7f784b3ba9c4769033ba3aac",
            "a922f627cfa647ea8ec3633859aa5ca3",
            "2ddf89b6e35c4bca9f6716f9f3834226"
          ]
        },
        "id": "dCs4l9z16CgH",
        "outputId": "99d668cd-5859-4bcc-a6ea-26383e5b1f86",
        "cellView": "form"
      },
      "execution_count": 43,
      "outputs": [
        {
          "output_type": "display_data",
          "data": {
            "text/plain": [
              "Checkbox(value=True, description='Simultaneous Download', indent=False)"
            ],
            "application/vnd.jupyter.widget-view+json": {
              "version_major": 2,
              "version_minor": 0,
              "model_id": "f14a32e3616f476981e2d737d0558f65"
            }
          },
          "metadata": {
            "application/vnd.jupyter.widget-view+json": {
              "colab": {
                "custom_widget_manager": {
                  "url": "https://ssl.gstatic.com/colaboratory-static/widgets/colab-cdn-widget-manager/2b70e893a8ba7c0f/manager.min.js"
                }
              }
            }
          }
        },
        {
          "output_type": "display_data",
          "data": {
            "text/plain": [
              "Text(value='', description='URL:')"
            ],
            "application/vnd.jupyter.widget-view+json": {
              "version_major": 2,
              "version_minor": 0,
              "model_id": "f2207899003f4dd5a53f9d3bf945f513"
            }
          },
          "metadata": {
            "application/vnd.jupyter.widget-view+json": {
              "colab": {
                "custom_widget_manager": {
                  "url": "https://ssl.gstatic.com/colaboratory-static/widgets/colab-cdn-widget-manager/2b70e893a8ba7c0f/manager.min.js"
                }
              }
            }
          }
        },
        {
          "output_type": "display_data",
          "data": {
            "text/plain": [
              "Text(value='', description='New Filename (optional):')"
            ],
            "application/vnd.jupyter.widget-view+json": {
              "version_major": 2,
              "version_minor": 0,
              "model_id": "34f43e9515214b21a662c58e94aa5af1"
            }
          },
          "metadata": {
            "application/vnd.jupyter.widget-view+json": {
              "colab": {
                "custom_widget_manager": {
                  "url": "https://ssl.gstatic.com/colaboratory-static/widgets/colab-cdn-widget-manager/2b70e893a8ba7c0f/manager.min.js"
                }
              }
            }
          }
        },
        {
          "output_type": "display_data",
          "data": {
            "text/plain": [
              "Button(description='Add URL', style=ButtonStyle())"
            ],
            "application/vnd.jupyter.widget-view+json": {
              "version_major": 2,
              "version_minor": 0,
              "model_id": "53a977931a5a4879973378b9fca2fbc3"
            }
          },
          "metadata": {
            "application/vnd.jupyter.widget-view+json": {
              "colab": {
                "custom_widget_manager": {
                  "url": "https://ssl.gstatic.com/colaboratory-static/widgets/colab-cdn-widget-manager/2b70e893a8ba7c0f/manager.min.js"
                }
              }
            }
          }
        },
        {
          "output_type": "display_data",
          "data": {
            "text/plain": [
              "Output()"
            ],
            "application/vnd.jupyter.widget-view+json": {
              "version_major": 2,
              "version_minor": 0,
              "model_id": "a922f627cfa647ea8ec3633859aa5ca3"
            }
          },
          "metadata": {
            "application/vnd.jupyter.widget-view+json": {
              "colab": {
                "custom_widget_manager": {
                  "url": "https://ssl.gstatic.com/colaboratory-static/widgets/colab-cdn-widget-manager/2b70e893a8ba7c0f/manager.min.js"
                }
              }
            }
          }
        },
        {
          "output_type": "stream",
          "name": "stdout",
          "text": [
            "When you are done adding URLs, run the next cell to start the downloads.\n"
          ]
        }
      ]
    },
    {
      "cell_type": "code",
      "source": [
        "#@title <-----<strong> Start Downloading</strong>\n",
        "print(\"\\nStarting downloads...\")\n",
        "if simultaneous_download_checkbox.value:\n",
        "    print(\"Mode: Simultaneous\")\n",
        "    threads = []\n",
        "    for url, new_filename in urls_and_filenames:\n",
        "        t = threading.Thread(target=download, args=(url, new_filename))\n",
        "        threads.append(t)\n",
        "        t.start()\n",
        "\n",
        "    for t in threads:\n",
        "        t.join()\n",
        "    print(\"\\nAll simultaneous downloads finished.\")\n",
        "else:\n",
        "    print(\"Mode: Sequential\")\n",
        "    for url, new_filename in urls_and_filenames:\n",
        "        download(url, new_filename)\n",
        "\n",
        "    print(\"\\nAll sequential downloads finished.\")"
      ],
      "metadata": {
        "colab": {
          "base_uri": "https://localhost:8080/",
          "height": 1000
        },
        "id": "u3-9FKqK6E9O",
        "outputId": "6de24e32-64c9-4e5a-ef9d-214df10773bb"
      },
      "execution_count": 47,
      "outputs": [
        {
          "output_type": "stream",
          "name": "stdout",
          "text": [
            "\n",
            "Starting downloads...\n",
            "Mode: Simultaneous\n",
            "Downloading 68aba478f75526a5526e9e8a (1192488415 bytes)...\n",
            "Downloading 68aba474f75526a5526e9e89 (2040109465 bytes)...\n",
            "68aba478f75526a5526e9e8a:   0%|          | 0.00/1.11G [00:00<?, ?B/s]\n",
            "68aba478f75526a5526e9e8a:   0%|          | 94.0k/1.11G [00:00<55:47, 356kB/s]  \n",
            "68aba478f75526a5526e9e8a:   0%|          | 230k/1.11G [00:00<26:51, 740kB/s] \n",
            "68aba478f75526a5526e9e8a:   0%|          | 366k/1.11G [00:00<20:47, 956kB/s]\n",
            "68aba478f75526a5526e9e8a:   0%|          | 740k/1.11G [00:00<10:33, 1.88MB/s]\n",
            "68aba478f75526a5526e9e8a:   0%|          | 1.49M/1.11G [00:00<05:14, 3.79MB/s]\n",
            "68aba478f75526a5526e9e8a:   0%|          | 2.55M/1.11G [00:00<03:18, 6.00MB/s]\n",
            "68aba478f75526a5526e9e8a:   0%|          | 5.12M/1.11G [00:00<01:36, 12.3MB/s]\n",
            "68aba478f75526a5526e9e8a:   1%|          | 7.50M/1.11G [00:01<01:14, 15.9MB/s]\n",
            "68aba478f75526a5526e9e8a:   1%|          | 10.1M/1.11G [00:01<01:02, 19.0MB/s]\n",
            "68aba478f75526a5526e9e8a:   1%|          | 12.5M/1.11G [00:01<00:57, 20.6MB/s]\n",
            "68aba478f75526a5526e9e8a:   1%|▏         | 14.9M/1.11G [00:01<00:53, 22.0MB/s]\n",
            "68aba478f75526a5526e9e8a:   2%|▏         | 17.4M/1.11G [00:01<00:51, 22.9MB/s]\n",
            "68aba478f75526a5526e9e8a:   2%|▏         | 19.9M/1.11G [00:01<00:49, 23.5MB/s]\n",
            "68aba478f75526a5526e9e8a:   2%|▏         | 22.4M/1.11G [00:01<00:48, 24.0MB/s]\n",
            "68aba478f75526a5526e9e8a:   2%|▏         | 24.8M/1.11G [00:01<00:47, 24.5MB/s]\n",
            "68aba478f75526a5526e9e8a:   2%|▏         | 27.3M/1.11G [00:01<00:47, 24.4MB/s]\n",
            "68aba478f75526a5526e9e8a:   5%|▍         | 54.6M/1.11G [00:03<01:03, 17.9MB/s]\n",
            "68aba474f75526a5526e9e89:   1%|▏         | 28.5M/1.90G [00:03<05:27, 6.14MB/s]\u001b[A\n",
            "68aba478f75526a5526e9e8a:   5%|▍         | 56.4M/1.11G [00:03<01:12, 15.7MB/s]\n",
            "68aba478f75526a5526e9e8a:   5%|▌         | 58.0M/1.11G [00:03<01:14, 15.2MB/s]\n",
            "68aba478f75526a5526e9e8a:   5%|▌         | 61.0M/1.11G [00:03<01:20, 14.0MB/s]\n",
            "68aba478f75526a5526e9e8a:   6%|▌         | 62.6M/1.11G [00:03<01:16, 14.8MB/s]\n",
            "68aba478f75526a5526e9e8a:   6%|▌         | 65.2M/1.11G [00:06<07:12, 2.60MB/s]\n",
            "68aba478f75526a5526e9e8a:   6%|▌         | 67.6M/1.11G [00:06<04:34, 4.09MB/s]\n",
            "68aba478f75526a5526e9e8a:   6%|▌         | 70.1M/1.11G [00:06<03:05, 6.04MB/s]\n",
            "68aba478f75526a5526e9e8a:   6%|▋         | 72.7M/1.11G [00:06<02:13, 8.37MB/s]\n",
            "68aba474f75526a5526e9e89:   2%|▏         | 43.8M/1.90G [00:06<06:01, 5.52MB/s]\u001b[A\n",
            "68aba478f75526a5526e9e8a:   7%|▋         | 75.0M/1.11G [00:06<01:52, 9.90MB/s]\n",
            "68aba478f75526a5526e9e8a:   7%|▋         | 76.9M/1.11G [00:06<01:36, 11.5MB/s]\n",
            "68aba478f75526a5526e9e8a:   7%|▋         | 78.8M/1.11G [00:06<01:25, 12.9MB/s]\n",
            "68aba478f75526a5526e9e8a:   7%|▋         | 80.7M/1.11G [00:07<01:21, 13.6MB/s]\n",
            "68aba478f75526a5526e9e8a:   7%|▋         | 82.4M/1.11G [00:07<01:20, 13.8MB/s]"
          ]
        },
        {
          "output_type": "error",
          "ename": "KeyboardInterrupt",
          "evalue": "",
          "traceback": [
            "\u001b[0;31m---------------------------------------------------------------------------\u001b[0m",
            "\u001b[0;31mKeyboardInterrupt\u001b[0m                         Traceback (most recent call last)",
            "\u001b[0;32m/tmp/ipython-input-3804637889.py\u001b[0m in \u001b[0;36m<cell line: 0>\u001b[0;34m()\u001b[0m\n\u001b[1;32m     10\u001b[0m \u001b[0;34m\u001b[0m\u001b[0m\n\u001b[1;32m     11\u001b[0m     \u001b[0;32mfor\u001b[0m \u001b[0mt\u001b[0m \u001b[0;32min\u001b[0m \u001b[0mthreads\u001b[0m\u001b[0;34m:\u001b[0m\u001b[0;34m\u001b[0m\u001b[0;34m\u001b[0m\u001b[0m\n\u001b[0;32m---> 12\u001b[0;31m         \u001b[0mt\u001b[0m\u001b[0;34m.\u001b[0m\u001b[0mjoin\u001b[0m\u001b[0;34m(\u001b[0m\u001b[0;34m)\u001b[0m\u001b[0;34m\u001b[0m\u001b[0;34m\u001b[0m\u001b[0m\n\u001b[0m\u001b[1;32m     13\u001b[0m     \u001b[0mprint\u001b[0m\u001b[0;34m(\u001b[0m\u001b[0;34m\"\\nAll simultaneous downloads finished.\"\u001b[0m\u001b[0;34m)\u001b[0m\u001b[0;34m\u001b[0m\u001b[0;34m\u001b[0m\u001b[0m\n\u001b[1;32m     14\u001b[0m \u001b[0;32melse\u001b[0m\u001b[0;34m:\u001b[0m\u001b[0;34m\u001b[0m\u001b[0;34m\u001b[0m\u001b[0m\n",
            "\u001b[0;32m/usr/lib/python3.12/threading.py\u001b[0m in \u001b[0;36mjoin\u001b[0;34m(self, timeout)\u001b[0m\n\u001b[1;32m   1147\u001b[0m \u001b[0;34m\u001b[0m\u001b[0m\n\u001b[1;32m   1148\u001b[0m         \u001b[0;32mif\u001b[0m \u001b[0mtimeout\u001b[0m \u001b[0;32mis\u001b[0m \u001b[0;32mNone\u001b[0m\u001b[0;34m:\u001b[0m\u001b[0;34m\u001b[0m\u001b[0;34m\u001b[0m\u001b[0m\n\u001b[0;32m-> 1149\u001b[0;31m             \u001b[0mself\u001b[0m\u001b[0;34m.\u001b[0m\u001b[0m_wait_for_tstate_lock\u001b[0m\u001b[0;34m(\u001b[0m\u001b[0;34m)\u001b[0m\u001b[0;34m\u001b[0m\u001b[0;34m\u001b[0m\u001b[0m\n\u001b[0m\u001b[1;32m   1150\u001b[0m         \u001b[0;32melse\u001b[0m\u001b[0;34m:\u001b[0m\u001b[0;34m\u001b[0m\u001b[0;34m\u001b[0m\u001b[0m\n\u001b[1;32m   1151\u001b[0m             \u001b[0;31m# the behavior of a negative timeout isn't documented, but\u001b[0m\u001b[0;34m\u001b[0m\u001b[0;34m\u001b[0m\u001b[0m\n",
            "\u001b[0;32m/usr/lib/python3.12/threading.py\u001b[0m in \u001b[0;36m_wait_for_tstate_lock\u001b[0;34m(self, block, timeout)\u001b[0m\n\u001b[1;32m   1167\u001b[0m \u001b[0;34m\u001b[0m\u001b[0m\n\u001b[1;32m   1168\u001b[0m         \u001b[0;32mtry\u001b[0m\u001b[0;34m:\u001b[0m\u001b[0;34m\u001b[0m\u001b[0;34m\u001b[0m\u001b[0m\n\u001b[0;32m-> 1169\u001b[0;31m             \u001b[0;32mif\u001b[0m \u001b[0mlock\u001b[0m\u001b[0;34m.\u001b[0m\u001b[0macquire\u001b[0m\u001b[0;34m(\u001b[0m\u001b[0mblock\u001b[0m\u001b[0;34m,\u001b[0m \u001b[0mtimeout\u001b[0m\u001b[0;34m)\u001b[0m\u001b[0;34m:\u001b[0m\u001b[0;34m\u001b[0m\u001b[0;34m\u001b[0m\u001b[0m\n\u001b[0m\u001b[1;32m   1170\u001b[0m                 \u001b[0mlock\u001b[0m\u001b[0;34m.\u001b[0m\u001b[0mrelease\u001b[0m\u001b[0;34m(\u001b[0m\u001b[0;34m)\u001b[0m\u001b[0;34m\u001b[0m\u001b[0;34m\u001b[0m\u001b[0m\n\u001b[1;32m   1171\u001b[0m                 \u001b[0mself\u001b[0m\u001b[0;34m.\u001b[0m\u001b[0m_stop\u001b[0m\u001b[0;34m(\u001b[0m\u001b[0;34m)\u001b[0m\u001b[0;34m\u001b[0m\u001b[0;34m\u001b[0m\u001b[0m\n",
            "\u001b[0;31mKeyboardInterrupt\u001b[0m: "
          ]
        }
      ]
    }
  ]
}