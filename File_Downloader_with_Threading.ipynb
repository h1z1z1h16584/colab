{
  "nbformat": 4,
  "nbformat_minor": 0,
  "metadata": {
    "colab": {
      "provenance": [],
      "authorship_tag": "ABX9TyMko7Pye6ZOgs5kqF5/mXLu"
    },
    "kernelspec": {
      "name": "python3",
      "display_name": "Python 3"
    },
    "language_info": {
      "name": "python"
    }
  },
  "cells": [
    {
      "cell_type": "code",
      "execution_count": 9,
      "metadata": {
        "colab": {
          "base_uri": "https://localhost:8080/"
        },
        "id": "joqq7yrz1_XK",
        "outputId": "cce65a6c-855a-4180-ccc3-47e9f4fe67e4"
      },
      "outputs": [
        {
          "output_type": "stream",
          "name": "stdout",
          "text": [
            "Drive already mounted at /content/drive; to attempt to forcibly remount, call drive.mount(\"/content/drive\", force_remount=True).\n"
          ]
        }
      ],
      "source": [
        "from google.colab import drive\n",
        "drive.mount(\"/content/drive\")"
      ]
    },
    {
      "cell_type": "code",
      "source": [
        "!pip install requests\n",
        "!pip install tqdm\n",
        "from tqdm import tqdm\n",
        "import os\n",
        "import sys\n",
        "from pathlib import Path\n",
        "import requests\n",
        "import threading\n",
        "\n",
        "def download(url, filename=None):\n",
        "    \"\"\"\n",
        "    Downloads a file from a given URL with a progress bar.\n",
        "\n",
        "    Args:\n",
        "        url (str): The URL of the file to download.\n",
        "        filename (str, optional): The name to save the file as.\n",
        "                                  If None, the original filename from the URL is used.\n",
        "    \"\"\"\n",
        "    try:\n",
        "        # Use allow_redirects=True to follow redirects, as some URLs might redirect to the actual file.\n",
        "        response = requests.head(url, allow_redirects=True)\n",
        "        filesize = int(response.headers[\"Content-Length\"])\n",
        "\n",
        "        # Determine the filename to use\n",
        "        if filename is None:\n",
        "            filename = os.path.basename(response.url) # Use the final redirected URL to get the filename\n",
        "\n",
        "        print(f\"Downloading {filename} ({filesize} bytes)...\")\n",
        "\n",
        "        # Define download path\n",
        "        home_path = \"/content/drive/MyDrive\"\n",
        "        sub_path = \"downloads\"\n",
        "        os.makedirs(os.path.join(home_path, sub_path), exist_ok=True)\n",
        "        dl_path = os.path.join(home_path, sub_path, filename)\n",
        "\n",
        "        chunk_size = 1024\n",
        "        with requests.get(url, stream=True, allow_redirects=True) as r, open(dl_path, \"wb\") as f, tqdm(\n",
        "            unit=\"B\",\n",
        "            unit_scale=True,\n",
        "            unit_divisor=1024,\n",
        "            total=filesize,\n",
        "            file=sys.stdout,\n",
        "            desc=filename\n",
        "        ) as progress:\n",
        "            for chunk in r.iter_content(chunk_size=chunk_size):\n",
        "                if chunk: # Filter out keep-alive new chunks\n",
        "                    datasize = f.write(chunk)\n",
        "                    progress.update(datasize)\n",
        "    except requests.exceptions.RequestException as e:\n",
        "        print(f\"\\nError downloading {url}: {e}\")\n",
        "    except KeyError:\n",
        "        print(f\"\\nError: Could not determine file size for {url}. The 'Content-Length' header was not found.\")\n",
        "    except Exception as e:\n",
        "        print(f\"\\nAn unexpected error occurred: {e}\")"
      ],
      "metadata": {
        "colab": {
          "base_uri": "https://localhost:8080/"
        },
        "id": "KSNINzrq5p6A",
        "outputId": "18b3f71d-008e-48d5-8a08-2b0a4a5aec7c"
      },
      "execution_count": 19,
      "outputs": [
        {
          "output_type": "stream",
          "name": "stdout",
          "text": [
            "Requirement already satisfied: requests in /usr/local/lib/python3.12/dist-packages (2.32.4)\n",
            "Requirement already satisfied: charset_normalizer<4,>=2 in /usr/local/lib/python3.12/dist-packages (from requests) (3.4.3)\n",
            "Requirement already satisfied: idna<4,>=2.5 in /usr/local/lib/python3.12/dist-packages (from requests) (3.10)\n",
            "Requirement already satisfied: urllib3<3,>=1.21.1 in /usr/local/lib/python3.12/dist-packages (from requests) (2.5.0)\n",
            "Requirement already satisfied: certifi>=2017.4.17 in /usr/local/lib/python3.12/dist-packages (from requests) (2025.8.3)\n",
            "Requirement already satisfied: tqdm in /usr/local/lib/python3.12/dist-packages (4.67.1)\n"
          ]
        }
      ]
    },
    {
      "cell_type": "code",
      "source": [
        "urls_and_filenames = []\n",
        "while True:\n",
        "    url = input(\"Enter file URL (or type 'exit' to finish): \")\n",
        "    if url.lower() == \"exit\":\n",
        "        break\n",
        "\n",
        "    modify_filename = input(\"Do you want to modify the file name? (y/n): \").lower()\n",
        "    if modify_filename == 'y':\n",
        "        new_filename = input(\"Enter new file name: \")\n",
        "        urls_and_filenames.append((url, new_filename))\n",
        "        print(f\"URL and new filename added: {url} -> {new_filename}\")\n",
        "    else:\n",
        "        urls_and_filenames.append((url, None))\n",
        "        print(f\"URL added: {url}\")"
      ],
      "metadata": {
        "colab": {
          "base_uri": "https://localhost:8080/"
        },
        "id": "dCs4l9z16CgH",
        "outputId": "53f4408d-5287-4f7b-e990-bf96a411b380"
      },
      "execution_count": 20,
      "outputs": [
        {
          "name": "stdout",
          "output_type": "stream",
          "text": [
            "Enter file URL (or type 'exit' to finish): https://f2l-bot828-40f1f76157f8.herokuapp.com/dl/68abb8a1f75526a5526e9e94\n",
            "Do you want to modify the file name? (y/n): y\n",
            "Enter new file name: photo-2025-08-25_01-13-04.jpg\n",
            "URL and new filename added: https://f2l-bot828-40f1f76157f8.herokuapp.com/dl/68abb8a1f75526a5526e9e94 -> photo-2025-08-25_01-13-04.jpg\n",
            "Enter file URL (or type 'exit' to finish): exit\n"
          ]
        }
      ]
    },
    {
      "cell_type": "code",
      "source": [
        "print(\"\\nAll collected URLs:\")\n",
        "for item in urls_and_filenames:\n",
        "    if isinstance(item, tuple):\n",
        "        print(f\"URL: {item[0]}, New Filename: {item[1]}\")\n",
        "    else:\n",
        "        print(f\"URL: {item}\")\n",
        "\n",
        "print(\"\\nStarting downloads...\")\n",
        "threads = []\n",
        "for item in urls_and_filenames:\n",
        "    if isinstance(item, tuple):\n",
        "        url, new_filename = item\n",
        "        t = threading.Thread(target=download, args=(url, new_filename))\n",
        "    else:\n",
        "        url = item\n",
        "        t = threading.Thread(target=download, args=(url,))\n",
        "\n",
        "    threads.append(t)\n",
        "    t.start()\n",
        "\n",
        "for t in threads:\n",
        "    t.join()\n",
        "\n",
        "print(\"\\nAll downloads finished.\")"
      ],
      "metadata": {
        "colab": {
          "base_uri": "https://localhost:8080/"
        },
        "id": "u3-9FKqK6E9O",
        "outputId": "bbd67483-aa44-4345-c270-f370bc51dd9c"
      },
      "execution_count": 21,
      "outputs": [
        {
          "output_type": "stream",
          "name": "stdout",
          "text": [
            "\n",
            "All collected URLs:\n",
            "URL: https://f2l-bot828-40f1f76157f8.herokuapp.com/dl/68abb8a1f75526a5526e9e94, New Filename: photo-2025-08-25_01-13-04.jpg\n",
            "\n",
            "Starting downloads...\n",
            "Downloading photo-2025-08-25_01-13-04.jpg (97919 bytes)...\n",
            "photo-2025-08-25_01-13-04.jpg: 100%|██████████| 95.6k/95.6k [00:00<00:00, 314kB/s]\n",
            "\n",
            "All downloads finished.\n"
          ]
        }
      ]
    }
  ]
}