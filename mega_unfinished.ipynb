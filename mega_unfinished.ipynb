{
  "nbformat": 4,
  "nbformat_minor": 0,
  "metadata": {
    "colab": {
      "provenance": [],
      "authorship_tag": "ABX9TyOO0sDLAu/31IQw4GYEZCh3",
      "include_colab_link": true
    },
    "kernelspec": {
      "name": "python3",
      "display_name": "Python 3"
    },
    "language_info": {
      "name": "python"
    }
  },
  "cells": [
    {
      "cell_type": "markdown",
      "metadata": {
        "id": "view-in-github",
        "colab_type": "text"
      },
      "source": [
        "<a href=\"https://colab.research.google.com/github/h1z1z1h16584/colab/blob/main/mega_unfinished.ipynb\" target=\"_parent\"><img src=\"https://colab.research.google.com/assets/colab-badge.svg\" alt=\"Open In Colab\"/></a>"
      ]
    },
    {
      "cell_type": "markdown",
      "metadata": {
        "id": "940eb1c1"
      },
      "source": [
        "# Task\n",
        "Download multiple files from a MEGA link to Google Drive using `megatools`."
      ]
    },
    {
      "cell_type": "markdown",
      "metadata": {
        "id": "7a1651aa"
      },
      "source": [
        "## Install megatools\n",
        "\n",
        "### Subtask:\n",
        "Install the `megatools` command-line utility in the Colab environment.\n"
      ]
    },
    {
      "cell_type": "markdown",
      "metadata": {
        "id": "d047d8ea"
      },
      "source": [
        "**Reasoning**:\n",
        "Update the package list and install megatools using apt.\n",
        "\n"
      ]
    },
    {
      "cell_type": "code",
      "metadata": {
        "colab": {
          "base_uri": "https://localhost:8080/"
        },
        "id": "a310765c",
        "outputId": "8da06ba4-5b50-4d13-c2ff-1afbea1dacdb"
      },
      "source": [
        "!apt update\n",
        "!apt install -y megatools"
      ],
      "execution_count": 5,
      "outputs": [
        {
          "output_type": "stream",
          "name": "stdout",
          "text": [
            "\u001b[33m\r0% [Working]\u001b[0m\r            \rHit:1 https://cli.github.com/packages stable InRelease\n",
            "\u001b[33m\r0% [Waiting for headers] [Waiting for headers] [Connecting to cloud.r-project.o\u001b[0m\r                                                                               \rHit:2 http://security.ubuntu.com/ubuntu jammy-security InRelease\n",
            "\u001b[33m\r0% [Waiting for headers] [Connecting to cloud.r-project.org] [Connected to r2u.\u001b[0m\r                                                                               \rHit:3 http://archive.ubuntu.com/ubuntu jammy InRelease\n",
            "\u001b[33m\r0% [Waiting for headers] [Connecting to cloud.r-project.org] [Waiting for heade\u001b[0m\r                                                                               \rHit:4 http://archive.ubuntu.com/ubuntu jammy-updates InRelease\n",
            "\u001b[33m\r0% [Connecting to cloud.r-project.org] [Waiting for headers] [Connecting to dev\u001b[0m\u001b[33m\r0% [Waiting for headers] [Connecting to cloud.r-project.org] [Waiting for heade\u001b[0m\r                                                                               \rHit:5 http://archive.ubuntu.com/ubuntu jammy-backports InRelease\n",
            "Hit:6 https://r2u.stat.illinois.edu/ubuntu jammy InRelease\n",
            "Hit:7 https://developer.download.nvidia.com/compute/cuda/repos/ubuntu2204/x86_64  InRelease\n",
            "Hit:8 https://cloud.r-project.org/bin/linux/ubuntu jammy-cran40/ InRelease\n",
            "Hit:9 https://ppa.launchpadcontent.net/deadsnakes/ppa/ubuntu jammy InRelease\n",
            "Hit:10 https://ppa.launchpadcontent.net/graphics-drivers/ppa/ubuntu jammy InRelease\n",
            "Hit:11 https://ppa.launchpadcontent.net/ubuntugis/ppa/ubuntu jammy InRelease\n",
            "Reading package lists... Done\n",
            "Building dependency tree... Done\n",
            "Reading state information... Done\n",
            "45 packages can be upgraded. Run 'apt list --upgradable' to see them.\n",
            "\u001b[1;33mW: \u001b[0mSkipping acquire of configured file 'main/source/Sources' as repository 'https://r2u.stat.illinois.edu/ubuntu jammy InRelease' does not seem to provide it (sources.list entry misspelt?)\u001b[0m\n",
            "Reading package lists... Done\n",
            "Building dependency tree... Done\n",
            "Reading state information... Done\n",
            "The following NEW packages will be installed:\n",
            "  megatools\n",
            "0 upgraded, 1 newly installed, 0 to remove and 45 not upgraded.\n",
            "Need to get 207 kB of archives.\n",
            "After this operation, 898 kB of additional disk space will be used.\n",
            "Get:1 http://archive.ubuntu.com/ubuntu jammy/universe amd64 megatools amd64 1.10.3-1build1 [207 kB]\n",
            "Fetched 207 kB in 0s (995 kB/s)\n",
            "Selecting previously unselected package megatools.\n",
            "(Reading database ... 126371 files and directories currently installed.)\n",
            "Preparing to unpack .../megatools_1.10.3-1build1_amd64.deb ...\n",
            "Unpacking megatools (1.10.3-1build1) ...\n",
            "Setting up megatools (1.10.3-1build1) ...\n",
            "Processing triggers for man-db (2.10.2-1) ...\n"
          ]
        }
      ]
    },
    {
      "cell_type": "markdown",
      "metadata": {
        "id": "d857c631"
      },
      "source": [
        "## Mount google drive\n",
        "\n",
        "### Subtask:\n",
        "Mount Google Drive to save the downloaded files directly.\n"
      ]
    },
    {
      "cell_type": "markdown",
      "metadata": {
        "id": "c79d6d14"
      },
      "source": [
        "**Reasoning**:\n",
        "Mount Google Drive to allow saving the downloaded files.\n",
        "\n"
      ]
    },
    {
      "cell_type": "code",
      "metadata": {
        "colab": {
          "base_uri": "https://localhost:8080/"
        },
        "id": "675c2511",
        "outputId": "9fc53dec-35c4-4f0d-e0e3-6adca263c112"
      },
      "source": [
        "from google.colab import drive\n",
        "drive.mount('/content/drive')"
      ],
      "execution_count": 6,
      "outputs": [
        {
          "output_type": "stream",
          "name": "stdout",
          "text": [
            "Drive already mounted at /content/drive; to attempt to forcibly remount, call drive.mount(\"/content/drive\", force_remount=True).\n"
          ]
        }
      ]
    },
    {
      "cell_type": "markdown",
      "metadata": {
        "id": "2ba1e19f"
      },
      "source": [
        "## Set destination path\n",
        "\n",
        "### Subtask:\n",
        "Define the destination path in Google Drive where the files will be saved.\n"
      ]
    },
    {
      "cell_type": "markdown",
      "metadata": {
        "id": "ab6b97f9"
      },
      "source": [
        "**Reasoning**:\n",
        "Define a variable to store the destination path in Google Drive.\n",
        "\n"
      ]
    },
    {
      "cell_type": "code",
      "metadata": {
        "colab": {
          "base_uri": "https://localhost:8080/"
        },
        "id": "f4dd5f18",
        "outputId": "afebbcea-6235-4f69-c6ca-ab95cc552f01"
      },
      "source": [
        "destination_path = '/content/drive/My Drive/Downloaded_MEGA_Files'\n",
        "print(f\"Destination path set to: {destination_path}\")"
      ],
      "execution_count": 12,
      "outputs": [
        {
          "output_type": "stream",
          "name": "stdout",
          "text": [
            "Destination path set to: /content/drive/My Drive/Downloaded_MEGA_Files\n"
          ]
        }
      ]
    },
    {
      "cell_type": "markdown",
      "metadata": {
        "id": "274141ff"
      },
      "source": [
        "## Download files using megatools\n",
        "\n",
        "### Subtask:\n",
        "Use the `megadl` command from `megatools` to download files from the provided MEGA link to the specified Google Drive path.\n"
      ]
    },
    {
      "cell_type": "markdown",
      "metadata": {
        "id": "b0900d28"
      },
      "source": [
        "**Reasoning**:\n",
        "Construct and execute the `megadl` command to download the files from the MEGA link to the specified Google Drive path.\n",
        "\n"
      ]
    },
    {
      "cell_type": "code",
      "metadata": {
        "colab": {
          "base_uri": "https://localhost:8080/"
        },
        "id": "c4924866",
        "outputId": "dc699750-e485-4424-9b8a-2aaa71c25ca7"
      },
      "source": [
        "mega_link = \"https://mega.nz/folder/ZvIDzLiJ#ZbP805mdgFI1yvtX_HH21w/folder/AvowCZ7T\" # Replace with your actual MEGA link\n",
        "command = f\"megadl '{mega_link}' --path '{destination_path}'\"\n",
        "print(f\"Executing command: {command}\")\n",
        "!{command}"
      ],
      "execution_count": 16,
      "outputs": [
        {
          "output_type": "stream",
          "name": "stdout",
          "text": [
            "Executing command: megadl 'https://mega.nz/folder/ZvIDzLiJ#ZbP805mdgFI1yvtX_HH21w/folder/AvowCZ7T' --path '/content/drive/My Drive/Downloaded_MEGA_Files'\n",
            "WARNING: Skipping invalid Mega download link: https://mega.nz/folder/ZvIDzLiJ#ZbP805mdgFI1yvtX_HH21w/folder/AvowCZ7T\n"
          ]
        }
      ]
    }
  ]
}