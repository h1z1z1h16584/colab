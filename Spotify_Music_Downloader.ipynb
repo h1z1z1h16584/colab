{
  "nbformat": 4,
  "nbformat_minor": 0,
  "metadata": {
    "colab": {
      "provenance": []
    },
    "kernelspec": {
      "name": "python3",
      "display_name": "Python 3"
    },
    "language_info": {
      "name": "python"
    }
  },
  "cells": [
    {
      "cell_type": "code",
      "source": [
        "#@title <b>Time Out Preventer (Advanced) </b></strong>\n",
        "%%capture\n",
        "AUTO_RECONNECT = True #@param {type:\"boolean\"}\n",
        "#@markdown **Run this code to prevent Google Colab from Timeout**\n",
        "from os import makedirs\n",
        "makedirs(\"/root/.config/rclone\", exist_ok = True)\n",
        "if AUTO_RECONNECT:\n",
        "  import IPython\n",
        "  from google.colab import output\n",
        "\n",
        "  display(IPython.display.Javascript('''\n",
        "  function ClickConnect(){\n",
        "    btn = document.querySelector(\"colab-connect-button\")\n",
        "    if (btn != null){\n",
        "      console.log(\"Click colab-connect-button\");\n",
        "      btn.click()\n",
        "      }\n",
        "\n",
        "    btn = document.getElementById('ok')\n",
        "    if (btn != null){\n",
        "      console.log(\"Click reconnect\");\n",
        "      btn.click()\n",
        "      }\n",
        "    }\n",
        "\n",
        "  setInterval(ClickConnect,60000)\n",
        "  '''))"
      ],
      "metadata": {
        "cellView": "form",
        "id": "ZfxwplLcEvhZ"
      },
      "execution_count": 1,
      "outputs": []
    },
    {
      "cell_type": "code",
      "source": [
        "#@title <b> Install Requirement </b></strong>\n",
        "from IPython.display import clear_output\n",
        "print(f'\\033[92mInstalling Requirments\\033[0m\\n')\n",
        "from google.colab import drive\n",
        "drive.mount('/content/drive')\n",
        "!apt-get upgrade\n",
        "!pip install spotify_dl\n",
        "!apt-get install -y ffmpeg\n",
        "import os\n",
        "os.environ['SPOTIPY_CLIENT_ID'] = '039cc20e7d604d8aa2dec0ad2a9fcdb3'\n",
        "os.environ['SPOTIPY_CLIENT_SECRET'] = 'f9997511f32f40b4b76da0a1ff0235d7'\n",
        "#clear_output()"
      ],
      "metadata": {
        "id": "C0WQenAKoe_7",
        "collapsed": true,
        "outputId": "cd50af06-17c9-4152-e85e-cd8217e28db5",
        "colab": {
          "base_uri": "https://localhost:8080/"
        }
      },
      "execution_count": 5,
      "outputs": [
        {
          "output_type": "stream",
          "name": "stdout",
          "text": [
            "\u001b[92mInstalling Requirments\u001b[0m\n",
            "\n",
            "Mounted at /content/drive\n",
            "Reading package lists... Done\n",
            "Building dependency tree... Done\n",
            "Reading state information... Done\n",
            "Calculating upgrade... Done\n",
            "The following packages have been kept back:\n",
            "  libcudnn9-cuda-12 libcudnn9-dev-cuda-12 libnccl-dev libnccl2\n",
            "0 upgraded, 0 newly installed, 0 to remove and 4 not upgraded.\n",
            "Requirement already satisfied: spotify_dl in /usr/local/lib/python3.11/dist-packages (8.9.0)\n",
            "Requirement already satisfied: sentry-sdk~=1.16 in /usr/local/lib/python3.11/dist-packages (from spotify_dl) (1.45.1)\n",
            "Requirement already satisfied: yt-dlp>=2023.3.4 in /usr/local/lib/python3.11/dist-packages (from spotify_dl) (2025.1.26)\n",
            "Requirement already satisfied: spotipy~=2.21 in /usr/local/lib/python3.11/dist-packages (from spotify_dl) (2.25.0)\n",
            "Requirement already satisfied: mutagen~=1.45 in /usr/local/lib/python3.11/dist-packages (from spotify_dl) (1.47.0)\n",
            "Requirement already satisfied: rich~=12.0 in /usr/local/lib/python3.11/dist-packages (from spotify_dl) (12.6.0)\n",
            "Requirement already satisfied: urllib3~=1.26 in /usr/local/lib/python3.11/dist-packages (from spotify_dl) (1.26.20)\n",
            "Requirement already satisfied: commonmark<0.10.0,>=0.9.0 in /usr/local/lib/python3.11/dist-packages (from rich~=12.0->spotify_dl) (0.9.1)\n",
            "Requirement already satisfied: pygments<3.0.0,>=2.6.0 in /usr/local/lib/python3.11/dist-packages (from rich~=12.0->spotify_dl) (2.18.0)\n",
            "Requirement already satisfied: certifi in /usr/local/lib/python3.11/dist-packages (from sentry-sdk~=1.16->spotify_dl) (2024.12.14)\n",
            "Requirement already satisfied: redis>=3.5.3 in /usr/local/lib/python3.11/dist-packages (from spotipy~=2.21->spotify_dl) (5.2.1)\n",
            "Requirement already satisfied: requests>=2.25.0 in /usr/local/lib/python3.11/dist-packages (from spotipy~=2.21->spotify_dl) (2.32.3)\n",
            "Requirement already satisfied: charset-normalizer<4,>=2 in /usr/local/lib/python3.11/dist-packages (from requests>=2.25.0->spotipy~=2.21->spotify_dl) (3.4.1)\n",
            "Requirement already satisfied: idna<4,>=2.5 in /usr/local/lib/python3.11/dist-packages (from requests>=2.25.0->spotipy~=2.21->spotify_dl) (3.10)\n",
            "Reading package lists... Done\n",
            "Building dependency tree... Done\n",
            "Reading state information... Done\n",
            "ffmpeg is already the newest version (7:4.4.2-0ubuntu0.22.04.1).\n",
            "0 upgraded, 0 newly installed, 0 to remove and 4 not upgraded.\n"
          ]
        }
      ]
    },
    {
      "cell_type": "code",
      "source": [
        "#@title <b> Download Playlist </b></strong>\n",
        "!mkdir -p \"/content/drive/My Drive/spotify_downloads\"\n",
        "Spotify_Url = \"https://open.spotify.com/playlist/37i9dQZF1DZ06evO3CRVnO?si=bedb1c12032145c7\" #@param {type:\"string\"}\n",
        "print(f'\\033[92mDownloading Playlist from spotify\\033[0m\\n')\n",
        "!spotify_dl -l {Spotify_Url} -o \"/content/drive/My Drive/spotify_downloads\"\n",
        "print('\\n\\033[93mREAD:\\033[0m \\033[1mDownloaded song is located in your gdrive.\\033[0m')\n"
      ],
      "metadata": {
        "id": "bCKgejuthbOm",
        "collapsed": true,
        "outputId": "bf69c8af-bcf1-40ff-f2f3-c94ed6cb4667",
        "colab": {
          "base_uri": "https://localhost:8080/"
        }
      },
      "execution_count": 6,
      "outputs": [
        {
          "output_type": "stream",
          "name": "stdout",
          "text": [
            "\u001b[92mDownloading Playlist from spotify\u001b[0m\n",
            "\n",
            "Starting spotify_dl v8.\u001b[1;36m9.0\u001b[0m                                                         \u001b]8;id=324493;file:///usr/local/lib/python3.11/dist-packages/spotify_dl/spotify_dl.py\u001b\\\u001b[2mspotify_dl.py\u001b[0m\u001b]8;;\u001b\\\u001b[2m:\u001b[0m\u001b]8;id=486559;file:///usr/local/lib/python3.11/dist-packages/spotify_dl/spotify_dl.py#143\u001b\\\u001b[2m143\u001b[0m\u001b]8;;\u001b\\\n",
            "Sponsorblock enabled?: no                                                          \u001b]8;id=803281;file:///usr/local/lib/python3.11/dist-packages/spotify_dl/spotify_dl.py\u001b\\\u001b[2mspotify_dl.py\u001b[0m\u001b]8;;\u001b\\\u001b[2m:\u001b[0m\u001b]8;id=86754;file:///usr/local/lib/python3.11/dist-packages/spotify_dl/spotify_dl.py#185\u001b\\\u001b[2m185\u001b[0m\u001b]8;;\u001b\\\n",
            "HTTP Error for \u001b[1;33mGET\u001b[0m to \u001b[4;94mhttps://api.spotify.com/v1/playlists/37i9dQZF1DZ06evO3CRVnO\u001b[0m with \u001b]8;id=576775;file:///usr/local/lib/python3.11/dist-packages/spotipy/client.py\u001b\\\u001b[2mclient.py\u001b[0m\u001b]8;;\u001b\\\u001b[2m:\u001b[0m\u001b]8;id=93131;file:///usr/local/lib/python3.11/dist-packages/spotipy/client.py#292\u001b\\\u001b[2m292\u001b[0m\u001b]8;;\u001b\\\n",
            "Params: \u001b[1m{\u001b[0m\u001b[32m'fields'\u001b[0m: \u001b[32m'name'\u001b[0m, \u001b[32m'market'\u001b[0m: \u001b[3;35mNone\u001b[0m, \u001b[32m'additional_types'\u001b[0m: \u001b[32m'track'\u001b[0m\u001b[1m}\u001b[0m returned \u001b[1;36m404\u001b[0m   \u001b[2m             \u001b[0m\n",
            "due to Resource not found                                                              \u001b[2m             \u001b[0m\n",
            "Traceback (most recent call last):\n",
            "  File \"/usr/local/lib/python3.11/dist-packages/spotipy/client.py\", line 275, in _internal_call\n",
            "    response.raise_for_status()\n",
            "  File \"/usr/local/lib/python3.11/dist-packages/requests/models.py\", line 1024, in raise_for_status\n",
            "    raise HTTPError(http_error_msg, response=self)\n",
            "requests.exceptions.HTTPError: 404 Client Error: Not Found for url: https://api.spotify.com/v1/playlists/37i9dQZF1DZ06evO3CRVnO?fields=name&additional_types=track\n",
            "\n",
            "During handling of the above exception, another exception occurred:\n",
            "\n",
            "Traceback (most recent call last):\n",
            "  File \"/usr/local/bin/spotify_dl\", line 8, in <module>\n",
            "    sys.exit(spotify_dl())\n",
            "             ^^^^^^^^^^^^\n",
            "  File \"/usr/local/lib/python3.11/dist-packages/spotify_dl/spotify_dl.py\", line 195, in spotify_dl\n",
            "    directory_name = get_item_name(sp, item_type, item_id)\n",
            "                     ^^^^^^^^^^^^^^^^^^^^^^^^^^^^^^^^^^^^^\n",
            "  File \"/usr/local/lib/python3.11/dist-packages/spotify_dl/spotify.py\", line 259, in get_item_name\n",
            "    name = sp.playlist(playlist_id=item_id, fields=\"name\").get(\"name\")\n",
            "           ^^^^^^^^^^^^^^^^^^^^^^^^^^^^^^^^^^^^^^^^^^^^^^^\n",
            "  File \"/usr/local/lib/python3.11/dist-packages/spotipy/client.py\", line 671, in playlist\n",
            "    return self._get(\n",
            "           ^^^^^^^^^^\n",
            "  File \"/usr/local/lib/python3.11/dist-packages/spotipy/client.py\", line 327, in _get\n",
            "    return self._internal_call(\"GET\", url, payload, kwargs)\n",
            "           ^^^^^^^^^^^^^^^^^^^^^^^^^^^^^^^^^^^^^^^^^^^^^^^^\n",
            "  File \"/usr/local/lib/python3.11/dist-packages/spotipy/client.py\", line 297, in _internal_call\n",
            "    raise SpotifyException(\n",
            "spotipy.exceptions.SpotifyException: http status: 404, code:-1 - https://api.spotify.com/v1/playlists/37i9dQZF1DZ06evO3CRVnO?fields=name&additional_types=track:\n",
            " Resource not found, reason: None\n",
            "Sentry is attempting to send 3 pending events\n",
            "Waiting up to 2 seconds\n",
            "Press Ctrl-C to quit\n",
            "\n",
            "\u001b[93mREAD:\u001b[0m \u001b[1mDownloaded song is located in your gdrive.\u001b[0m\n"
          ]
        }
      ]
    },
    {
      "cell_type": "code",
      "source": [
        "#@title <b> Spotify Set Up </b></strong>\n",
        "#@markdown Run this Cell.\n",
        "import os\n",
        "os.environ['SPOTIPY_CLIENT_ID'] = '039cc20e7d604d8aa2dec0ad2a9fcdb3'\n",
        "os.environ['SPOTIPY_CLIENT_SECRET'] = 'f9997511f32f40b4b76da0a1ff0235d7'"
      ],
      "metadata": {
        "cellView": "form",
        "id": "XFdy7UoRYYaw"
      },
      "execution_count": null,
      "outputs": []
    }
  ]
}